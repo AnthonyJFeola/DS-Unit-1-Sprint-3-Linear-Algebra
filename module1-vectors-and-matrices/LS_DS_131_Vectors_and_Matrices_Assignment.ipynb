{
  "nbformat": 4,
  "nbformat_minor": 0,
  "metadata": {
    "colab": {
      "name": "LS_DS_131_Vectors_and_Matrices_Assignment.ipynb",
      "provenance": [],
      "collapsed_sections": [],
      "include_colab_link": true
    },
    "kernelspec": {
      "name": "python3",
      "display_name": "Python 3"
    }
  },
  "cells": [
    {
      "cell_type": "markdown",
      "metadata": {
        "id": "view-in-github",
        "colab_type": "text"
      },
      "source": [
        "<a href=\"https://colab.research.google.com/github/AnthonyJFeola/DS-Unit-1-Sprint-3-Linear-Algebra/blob/master/module1-vectors-and-matrices/LS_DS_131_Vectors_and_Matrices_Assignment.ipynb\" target=\"_parent\"><img src=\"https://colab.research.google.com/assets/colab-badge.svg\" alt=\"Open In Colab\"/></a>"
      ]
    },
    {
      "cell_type": "markdown",
      "metadata": {
        "id": "yXA3GwWhY9KL",
        "colab_type": "text"
      },
      "source": [
        "# Part 1 - Scalars and Vectors\n",
        "\n",
        "For the questions below it is not sufficient to simply provide answer to the questions, but you must solve the problems and show your work using python (the NumPy library will help a lot!) Translate the vectors and matrices into their appropriate python  representations and use numpy or functions that you write yourself to demonstrate the result or property. "
      ]
    },
    {
      "cell_type": "markdown",
      "metadata": {
        "id": "oNOTv43_Zi9L",
        "colab_type": "text"
      },
      "source": [
        "## 1.1 Create a two-dimensional vector and plot it on a graph"
      ]
    },
    {
      "cell_type": "code",
      "metadata": {
        "id": "PRcdubu7ujTW",
        "colab_type": "code",
        "colab": {}
      },
      "source": [
        "import math\n",
        "import matplotlib.pyplot as plt\n",
        "import numpy as np"
      ],
      "execution_count": 0,
      "outputs": []
    },
    {
      "cell_type": "code",
      "metadata": {
        "id": "XNqjzQzrkVG7",
        "colab_type": "code",
        "colab": {
          "base_uri": "https://localhost:8080/",
          "height": 269
        },
        "outputId": "49c5aecd-2684-4882-b62c-587bd4852ac7"
      },
      "source": [
        "two_d = np.array([3, 6])\n",
        "\n",
        "fig, ax = plt.subplots()\n",
        "ax.grid()\n",
        "plt.xlim(-.5,10)\n",
        "plt.ylim(-.5,10)\n",
        "\n",
        "plt.arrow(0, 0, \n",
        "          two_d[0], \n",
        "          two_d[1], \n",
        "          head_width=0.5, \n",
        "          head_length=0.5,\n",
        "          linewidth=3,\n",
        "          color = 'red')\n",
        "plt.show()"
      ],
      "execution_count": 28,
      "outputs": [
        {
          "output_type": "display_data",
          "data": {
            "image/png": "[encoded data removed]",
            "text/plain": [
              "<Figure size 432x288 with 1 Axes>"
            ]
          },
          "metadata": {
            "tags": []
          }
        }
      ]
    },
    {
      "cell_type": "markdown",
      "metadata": {
        "id": "unKFT619lk3e",
        "colab_type": "text"
      },
      "source": [
        "## 1.2 Create a three-dimensional vecor and plot it on a graph"
      ]
    },
    {
      "cell_type": "code",
      "metadata": {
        "id": "atUEd3T6llKm",
        "colab_type": "code",
        "colab": {}
      },
      "source": [
        "three_d = np.array([3, 6, 8])\n",
        "\n",
        "three_d_vector = np.array([[0,0,0,\n",
        "                    three_d[0], three_d[1], three_d[2]]])"
      ],
      "execution_count": 0,
      "outputs": []
    },
    {
      "cell_type": "code",
      "metadata": {
        "id": "mUYg0OIUxZox",
        "colab_type": "code",
        "colab": {
          "base_uri": "https://localhost:8080/",
          "height": 123
        },
        "outputId": "c4f3eb82-4e0c-4bd4-882c-163b486db6c7"
      },
      "source": [
        "X, Y, Z, U, V, W = zip(*three_d_vector)\n",
        "for letter in [X, Y, Z, U, V, W]:\n",
        "  print(letter)"
      ],
      "execution_count": 30,
      "outputs": [
        {
          "output_type": "stream",
          "text": [
            "(0,)\n",
            "(0,)\n",
            "(0,)\n",
            "(3,)\n",
            "(6,)\n",
            "(8,)\n"
          ],
          "name": "stdout"
        }
      ]
    },
    {
      "cell_type": "code",
      "metadata": {
        "id": "M-qNYuZUxhGW",
        "colab_type": "code",
        "colab": {
          "base_uri": "https://localhost:8080/",
          "height": 248
        },
        "outputId": "cbc72570-a15c-4a02-ca09-207e3da4e1fe"
      },
      "source": [
        "from mpl_toolkits.mplot3d import Axes3D\n",
        "\n",
        "fig = plt.figure()\n",
        "ax = fig.add_subplot(111, projection='3d')\n",
        "ax.quiver(X, Y, Z, U, V, W, length=1, color='blue',linewidth=6)\n",
        "ax.set_xlim([0, 10])\n",
        "ax.set_ylim([0, 10])\n",
        "ax.set_zlim([0, 10])\n",
        "ax.set_xlabel('X')\n",
        "ax.set_ylabel('Y')\n",
        "ax.set_zlabel('Z')\n",
        "plt.show()"
      ],
      "execution_count": 31,
      "outputs": [
        {
          "output_type": "display_data",
          "data": {
            "image/png": "[encoded data removed]",
            "text/plain": [
              "<Figure size 432x288 with 1 Axes>"
            ]
          },
          "metadata": {
            "tags": []
          }
        }
      ]
    },
    {
      "cell_type": "markdown",
      "metadata": {
        "id": "b7qFxbKxZmI2",
        "colab_type": "text"
      },
      "source": [
        "## 1.3 Scale the vectors you created in 1.1 by $5$, $\\pi$, and $-e$ and plot all four vectors (original + 3 scaled vectors) on a graph. What do you notice about these vectors? "
      ]
    },
    {
      "cell_type": "code",
      "metadata": {
        "id": "ah6zMSLJdJwL",
        "colab_type": "code",
        "outputId": "bea0ec8e-1312-4339-addb-ae9e0cba3c25",
        "colab": {
          "base_uri": "https://localhost:8080/",
          "height": 52
        }
      },
      "source": [
        "from math import e, pi\n",
        "print(e)\n",
        "print(pi)"
      ],
      "execution_count": 32,
      "outputs": [
        {
          "output_type": "stream",
          "text": [
            "2.718281828459045\n",
            "3.141592653589793\n"
          ],
          "name": "stdout"
        }
      ]
    },
    {
      "cell_type": "code",
      "metadata": {
        "id": "vH4DxY70y8wc",
        "colab_type": "code",
        "colab": {}
      },
      "source": [
        "two_d_scaled_5 = np.multiply(5, two_d)"
      ],
      "execution_count": 0,
      "outputs": []
    },
    {
      "cell_type": "code",
      "metadata": {
        "id": "B1Pv2crJzKA1",
        "colab_type": "code",
        "colab": {}
      },
      "source": [
        "two_d_scaled_pi = np.multiply(math.pi, two_d)"
      ],
      "execution_count": 0,
      "outputs": []
    },
    {
      "cell_type": "code",
      "metadata": {
        "id": "3qpwDlzXkVf5",
        "colab_type": "code",
        "colab": {}
      },
      "source": [
        "two_d_scaled_e = np.multiply(math.e, two_d)"
      ],
      "execution_count": 0,
      "outputs": []
    },
    {
      "cell_type": "code",
      "metadata": {
        "id": "zLJTbdVbzYXV",
        "colab_type": "code",
        "colab": {
          "base_uri": "https://localhost:8080/",
          "height": 269
        },
        "outputId": "161979de-f3d1-482c-b1ea-326abdfa4b81"
      },
      "source": [
        "fig, ax = plt.subplots()\n",
        "ax.grid()\n",
        "plt.xlim(-.25,35)          \n",
        "plt.ylim(-.25,35)\n",
        "\n",
        "plt.arrow(0,0, two_d[0], two_d[1],\n",
        "          head_width=.5, \n",
        "          head_length=0.5, \n",
        "          linewidth=12,\n",
        "          color ='black')\n",
        "\n",
        "plt.arrow(0,0, two_d_scaled_5[0], two_d_scaled_5[1],\n",
        "          head_width=0.5, \n",
        "          head_length=0.5, \n",
        "          linewidth=10,\n",
        "          color ='red')\n",
        "\n",
        "plt.arrow(0,0, two_d_scaled_pi[0], two_d_scaled_pi[1],\n",
        "          head_width=0.5, \n",
        "          head_length=0.5, \n",
        "          linewidth=4,\n",
        "          color ='blue')\n",
        "\n",
        "plt.arrow(0,0, two_d_scaled_e[0], two_d_scaled_e[1],\n",
        "          head_width=.5, \n",
        "          head_length=0.5, \n",
        "          linewidth=4,\n",
        "          color ='green')\n",
        "plt.show()\n",
        "\n",
        "# Notice the vectors all have the same direction, but different lengths. That\n",
        "# is the key difference in scaled vectors."
      ],
      "execution_count": 36,
      "outputs": [
        {
          "output_type": "display_data",
          "data": {
            "image/png": "[encoded data removed]",
            "text/plain": [
              "<Figure size 432x288 with 1 Axes>"
            ]
          },
          "metadata": {
            "tags": []
          }
        }
      ]
    },
    {
      "cell_type": "markdown",
      "metadata": {
        "id": "wrgqa6sWimbH",
        "colab_type": "text"
      },
      "source": [
        "## 1.4 Graph vectors $\\vec{a}$ and $\\vec{b}$ and plot them on a graph\n",
        "\n",
        "\\begin{align}\n",
        "\\vec{a} = \\begin{bmatrix} 5 \\\\ 7 \\end{bmatrix}\n",
        "\\qquad\n",
        "\\vec{b} = \\begin{bmatrix} 3 \\\\4 \\end{bmatrix}\n",
        "\\end{align}"
      ]
    },
    {
      "cell_type": "code",
      "metadata": {
        "id": "I1BGXA_skV-b",
        "colab_type": "code",
        "colab": {
          "base_uri": "https://localhost:8080/",
          "height": 269
        },
        "outputId": "31771843-fb6c-427f-e9ca-8bcf7b0546e0"
      },
      "source": [
        "a = np.array([5, 7])\n",
        "b = np.array([3,4])\n",
        "a_minus_b = a - b\n",
        "\n",
        "fig, ax = plt.subplots()\n",
        "ax.grid()\n",
        "plt.xlim(-.25,10)          \n",
        "plt.ylim(-.25,10)\n",
        "\n",
        "plt.arrow(0,0, a[0], a[1],\n",
        "          head_width=.5, \n",
        "          head_length=0.5, \n",
        "          linewidth=10,\n",
        "          color ='black')\n",
        "\n",
        "plt.arrow(0,0, b[0], b[1],\n",
        "          head_width=0.5, \n",
        "          head_length=0.5, \n",
        "          linewidth=10,\n",
        "          color ='blue')\n",
        "\n",
        "plt.arrow(0,0, a_minus_b[0], a_minus_b[1],\n",
        "          head_width=0.5, \n",
        "          head_length=0.5, \n",
        "          linewidth=10,\n",
        "          color ='red')\n",
        "plt.show()"
      ],
      "execution_count": 37,
      "outputs": [
        {
          "output_type": "display_data",
          "data": {
            "image/png": "[encoded data removed]",
            "text/plain": [
              "<Figure size 432x288 with 1 Axes>"
            ]
          },
          "metadata": {
            "tags": []
          }
        }
      ]
    },
    {
      "cell_type": "markdown",
      "metadata": {
        "id": "QN6RU_3gizpw",
        "colab_type": "text"
      },
      "source": [
        "## 1.5 find $\\vec{a} - \\vec{b}$ and plot the result on the same graph as $\\vec{a}$ and $\\vec{b}$. Is there a relationship between vectors $\\vec{a} \\thinspace, \\vec{b} \\thinspace \\text{and} \\thinspace \\vec{a-b}$"
      ]
    },
    {
      "cell_type": "code",
      "metadata": {
        "id": "68sWHIOPkXp5",
        "colab_type": "code",
        "colab": {
          "base_uri": "https://localhost:8080/",
          "height": 35
        },
        "outputId": "5216d0f3-b4c9-402d-92d3-46024768af00"
      },
      "source": [
        "# There is not neccesarily a relationship between a, b, and a - b, other than \n",
        "# the fact that depending on what each a and b are, will determine the length \n",
        "# and direction of a - b. \n",
        "print(a_minus_b)"
      ],
      "execution_count": 38,
      "outputs": [
        {
          "output_type": "stream",
          "text": [
            "[2 3]\n"
          ],
          "name": "stdout"
        }
      ]
    },
    {
      "cell_type": "markdown",
      "metadata": {
        "id": "1ZPVuJAlehu_",
        "colab_type": "text"
      },
      "source": [
        "## 1.6 Find $c \\cdot d$\n",
        "\n",
        "\\begin{align}\n",
        "\\vec{c} = \\begin{bmatrix}7 & 22 & 4 & 16\\end{bmatrix}\n",
        "\\qquad\n",
        "\\vec{d} = \\begin{bmatrix}12 & 6 & 2 & 9\\end{bmatrix}\n",
        "\\end{align}\n"
      ]
    },
    {
      "cell_type": "code",
      "metadata": {
        "id": "2_cZQFCskYNr",
        "colab_type": "code",
        "colab": {
          "base_uri": "https://localhost:8080/",
          "height": 35
        },
        "outputId": "20f89746-d314-4e95-e66f-807d94e4406f"
      },
      "source": [
        "c = np.array([7, 22, 4, 16])\n",
        "d = np.array([12, 6, 2, 9])\n",
        "\n",
        "c_dot_d = np.dot(c,d)\n",
        "print(c_dot_d)"
      ],
      "execution_count": 39,
      "outputs": [
        {
          "output_type": "stream",
          "text": [
            "368\n"
          ],
          "name": "stdout"
        }
      ]
    },
    {
      "cell_type": "markdown",
      "metadata": {
        "id": "cLm8yokpfg9B",
        "colab_type": "text"
      },
      "source": [
        "##  1.7 Find $e \\times f$\n",
        "\n",
        "\\begin{align}\n",
        "\\vec{e} = \\begin{bmatrix} 5 \\\\ 7 \\\\ 2 \\end{bmatrix}\n",
        "\\qquad\n",
        "\\vec{f} = \\begin{bmatrix} 3 \\\\4 \\\\ 6 \\end{bmatrix}\n",
        "\\end{align}"
      ]
    },
    {
      "cell_type": "code",
      "metadata": {
        "id": "ku-TdCKAkYs8",
        "colab_type": "code",
        "colab": {
          "base_uri": "https://localhost:8080/",
          "height": 35
        },
        "outputId": "0bd6c454-7055-4b64-8a21-0d8a22bb0568"
      },
      "source": [
        "e = np.array([5, 7, 2])\n",
        "f = np.array([3, 4, 6])\n",
        "print(np.cross(e,f, axis=0))"
      ],
      "execution_count": 40,
      "outputs": [
        {
          "output_type": "stream",
          "text": [
            "[ 34 -24  -1]\n"
          ],
          "name": "stdout"
        }
      ]
    },
    {
      "cell_type": "markdown",
      "metadata": {
        "id": "-TN8wO2-h53s",
        "colab_type": "text"
      },
      "source": [
        "## 1.8 Find $||g||$ and then find $||h||$. Which is longer?\n",
        "\n",
        "\\begin{align}\n",
        "\\vec{g} = \\begin{bmatrix} 1 \\\\ 1 \\\\ 1 \\\\ 8 \\end{bmatrix}\n",
        "\\qquad\n",
        "\\vec{h} = \\begin{bmatrix} 3 \\\\3 \\\\ 3 \\\\ 3 \\end{bmatrix}\n",
        "\\end{align}"
      ]
    },
    {
      "cell_type": "code",
      "metadata": {
        "id": "-5VKOMKBlgaA",
        "colab_type": "code",
        "colab": {
          "base_uri": "https://localhost:8080/",
          "height": 52
        },
        "outputId": "f455d426-67d0-49c9-9aa5-60c01a92e93e"
      },
      "source": [
        "# g is longer\n",
        "g = np.array([1, 1, 1, 8])\n",
        "h = np.array([3, 3, 3, 3])\n",
        "print(np.linalg.norm(g))\n",
        "print(np.linalg.norm(h))"
      ],
      "execution_count": 41,
      "outputs": [
        {
          "output_type": "stream",
          "text": [
            "8.18535277187245\n",
            "6.0\n"
          ],
          "name": "stdout"
        }
      ]
    },
    {
      "cell_type": "markdown",
      "metadata": {
        "id": "njrWIMS-ZAoH",
        "colab_type": "text"
      },
      "source": [
        "# Part 2 - Matrices"
      ]
    },
    {
      "cell_type": "markdown",
      "metadata": {
        "id": "GjkcAVIOmOnn",
        "colab_type": "text"
      },
      "source": [
        "## 2.1 What are the dimensions of the following matrices? Which of the following can be multiplied together? See if you can find all of the different legal combinations.\n",
        "\\begin{align}\n",
        "A = \\begin{bmatrix}\n",
        "1 & 2 \\\\\n",
        "3 & 4 \\\\\n",
        "5 & 6\n",
        "\\end{bmatrix}\n",
        "\\qquad\n",
        "B = \\begin{bmatrix}\n",
        "2 & 4 & 6 \\\\\n",
        "\\end{bmatrix}\n",
        "\\qquad\n",
        "C = \\begin{bmatrix}\n",
        "9 & 6 & 3 \\\\\n",
        "4 & 7 & 11\n",
        "\\end{bmatrix}\n",
        "\\qquad\n",
        "D = \\begin{bmatrix}\n",
        "1 & 0 & 0 \\\\\n",
        "0 & 1 & 0 \\\\\n",
        "0 & 0 & 1\n",
        "\\end{bmatrix}\n",
        "\\qquad\n",
        "E = \\begin{bmatrix}\n",
        "1 & 3 \\\\\n",
        "5 & 7\n",
        "\\end{bmatrix}\n",
        "\\end{align}"
      ]
    },
    {
      "cell_type": "code",
      "metadata": {
        "id": "Z69c-uPtnbIx",
        "colab_type": "code",
        "colab": {}
      },
      "source": [
        "A = np.array([[1,2],[3,4],[5,6]]) # 3x2\n",
        "B = np.array([2,4,6]) #1x3\n",
        "C = np.array([[9,6,3],[4,7,11]]) #2x3\n",
        "D = np.array([[1,0,0],[0,1,0],[0,0,1]]) #3x3\n",
        "E = np.array([[1,3,],[5,7]]) #2x2\n",
        "# Only matrices where the two inside dimensions of the matrices being multiplied\n",
        "# are equal, can be multiplied."
      ],
      "execution_count": 0,
      "outputs": []
    },
    {
      "cell_type": "markdown",
      "metadata": {
        "id": "lMOlCoM3ncGa",
        "colab_type": "text"
      },
      "source": [
        "## 2.2 Find the following products: CD, AE, and BA. What are the dimensions of the resulting matrices? How does that relate to the dimensions of their factor matrices?"
      ]
    },
    {
      "cell_type": "code",
      "metadata": {
        "id": "zhKwiSItoE2F",
        "colab_type": "code",
        "colab": {
          "base_uri": "https://localhost:8080/",
          "height": 123
        },
        "outputId": "f825026d-1fcc-4366-ee00-8d8894bac69c"
      },
      "source": [
        "CD = print(np.matmul(C,D)) #2x3\n",
        "AE = print(np.matmul(A,E)) #3x2\n",
        "BA = print(np.matmul(B,A)) #1x2\n",
        "# The resulting dimensions of multipled matrices are the two outside dimensions,\n",
        "# i.e, the two that are not the same as the identical dimensions. For example,\n",
        "# by multiplying a 1x3 matrix by a 3x4 matrix, the resulting dimensions will be\n",
        "# 1x4."
      ],
      "execution_count": 43,
      "outputs": [
        {
          "output_type": "stream",
          "text": [
            "[[ 9  6  3]\n",
            " [ 4  7 11]]\n",
            "[[11 17]\n",
            " [23 37]\n",
            " [35 57]]\n",
            "[44 56]\n"
          ],
          "name": "stdout"
        }
      ]
    },
    {
      "cell_type": "markdown",
      "metadata": {
        "id": "p2jmaGLgoFPN",
        "colab_type": "text"
      },
      "source": [
        "## 2.3  Find $F^{T}$. How are the numbers along the main diagonal (top left to bottom right) of the original matrix and its transpose related? What are the dimensions of $F$? What are the dimensions of $F^{T}$?\n",
        "\n",
        "\\begin{align}\n",
        "F = \n",
        "\\begin{bmatrix}\n",
        "20 & 19 & 18 & 17 \\\\\n",
        "16 & 15 & 14 & 13 \\\\\n",
        "12 & 11 & 10 & 9 \\\\\n",
        "8 & 7 & 6 & 5 \\\\\n",
        "4 & 3 & 2 & 1\n",
        "\\end{bmatrix}\n",
        "\\end{align}"
      ]
    },
    {
      "cell_type": "code",
      "metadata": {
        "id": "Wl3ElwgLqaAn",
        "colab_type": "code",
        "colab": {
          "base_uri": "https://localhost:8080/",
          "height": 105
        },
        "outputId": "51cd6d21-f6e0-414f-e8ad-01e68752ac8e"
      },
      "source": [
        "# The diagonal values will always be the same.\n",
        "import pandas as pd\n",
        "F = np.array([[20,19,18,17],[16,15,14,13],[12,11,10,9],[8,7,6,5],[4,3,2,1]]) #5x4\n",
        "print(F)"
      ],
      "execution_count": 44,
      "outputs": [
        {
          "output_type": "stream",
          "text": [
            "[[20 19 18 17]\n",
            " [16 15 14 13]\n",
            " [12 11 10  9]\n",
            " [ 8  7  6  5]\n",
            " [ 4  3  2  1]]\n"
          ],
          "name": "stdout"
        }
      ]
    },
    {
      "cell_type": "code",
      "metadata": {
        "id": "Zi8U1MGP9S9m",
        "colab_type": "code",
        "colab": {
          "base_uri": "https://localhost:8080/",
          "height": 87
        },
        "outputId": "64670ebd-a86b-454c-bd83-cf4ca1a4d708"
      },
      "source": [
        "print(F.T) #4x5"
      ],
      "execution_count": 45,
      "outputs": [
        {
          "output_type": "stream",
          "text": [
            "[[20 16 12  8  4]\n",
            " [19 15 11  7  3]\n",
            " [18 14 10  6  2]\n",
            " [17 13  9  5  1]]\n"
          ],
          "name": "stdout"
        }
      ]
    },
    {
      "cell_type": "markdown",
      "metadata": {
        "id": "13ik2LEEZLHn",
        "colab_type": "text"
      },
      "source": [
        "# Part 3 - Square Matrices"
      ]
    },
    {
      "cell_type": "markdown",
      "metadata": {
        "id": "sDBAPUwfp7f7",
        "colab_type": "text"
      },
      "source": [
        "## 3.1 Find $IG$ (be sure to show your work) 😃\n",
        "\n",
        "You don't have to do anything crazy complicated here to show your work, just create the G matrix as specified below, and a corresponding 2x2 Identity matrix and then multiply them together to show the result. You don't need to write LaTeX or anything like that (unless you want to).\n",
        "\n",
        "\\begin{align}\n",
        "G= \n",
        "\\begin{bmatrix}\n",
        "13 & 14 \\\\\n",
        "21 & 12 \n",
        "\\end{bmatrix}\n",
        "\\end{align}"
      ]
    },
    {
      "cell_type": "code",
      "metadata": {
        "id": "ZnqvZBOYqar3",
        "colab_type": "code",
        "colab": {
          "base_uri": "https://localhost:8080/",
          "height": 52
        },
        "outputId": "7c8beff2-61db-477e-ed30-00eb8438191f"
      },
      "source": [
        "G = np.array([[13,14], [21,12]])\n",
        "I = np.array([[1,0],[0,1]])\n",
        "print(np.matmul(I,G))"
      ],
      "execution_count": 46,
      "outputs": [
        {
          "output_type": "stream",
          "text": [
            "[[13 14]\n",
            " [21 12]]\n"
          ],
          "name": "stdout"
        }
      ]
    },
    {
      "cell_type": "markdown",
      "metadata": {
        "id": "DZ_0XTDQqpMT",
        "colab_type": "text"
      },
      "source": [
        "## 3.2 Find $|H|$ and then find $|J|$.\n",
        "\n",
        "\\begin{align}\n",
        "H= \n",
        "\\begin{bmatrix}\n",
        "12 & 11 \\\\\n",
        "7 & 10 \n",
        "\\end{bmatrix}\n",
        "\\qquad\n",
        "J= \n",
        "\\begin{bmatrix}\n",
        "0 & 1 & 2 \\\\\n",
        "7 & 10 & 4 \\\\\n",
        "3 & 2 & 0\n",
        "\\end{bmatrix}\n",
        "\\end{align}\n"
      ]
    },
    {
      "cell_type": "code",
      "metadata": {
        "id": "5QShhoXyrjDS",
        "colab_type": "code",
        "colab": {
          "base_uri": "https://localhost:8080/",
          "height": 52
        },
        "outputId": "91ec74a9-07bb-477d-8ce7-3d04619b51c7"
      },
      "source": [
        "H = np.array([[12,11],[7,10]])\n",
        "J = np.array([[0,1,2],[7,10,4],[3,2,0]])\n",
        "print(np.linalg.det(H))\n",
        "print(np.linalg.det(J))"
      ],
      "execution_count": 47,
      "outputs": [
        {
          "output_type": "stream",
          "text": [
            "43.000000000000014\n",
            "-19.999999999999996\n"
          ],
          "name": "stdout"
        }
      ]
    },
    {
      "cell_type": "markdown",
      "metadata": {
        "id": "2gZl1CFwrXSH",
        "colab_type": "text"
      },
      "source": [
        "## 3.3 Find $H^{-1}$ and then find $J^{-1}$"
      ]
    },
    {
      "cell_type": "code",
      "metadata": {
        "id": "nyX6De2-rio1",
        "colab_type": "code",
        "colab": {
          "base_uri": "https://localhost:8080/",
          "height": 105
        },
        "outputId": "fed59fd9-0256-41a5-a79c-137dedb28e34"
      },
      "source": [
        "inv_H = (np.linalg.inv(H))\n",
        "inv_J = (np.linalg.inv(J))\n",
        "print(inv_H)\n",
        "print(inv_J)"
      ],
      "execution_count": 48,
      "outputs": [
        {
          "output_type": "stream",
          "text": [
            "[[ 0.23255814 -0.25581395]\n",
            " [-0.1627907   0.27906977]]\n",
            "[[ 0.4  -0.2   0.8 ]\n",
            " [-0.6   0.3  -0.7 ]\n",
            " [ 0.8  -0.15  0.35]]\n"
          ],
          "name": "stdout"
        }
      ]
    },
    {
      "cell_type": "markdown",
      "metadata": {
        "id": "Vvd4Pe86rjhW",
        "colab_type": "text"
      },
      "source": [
        "## 3.4 Find $HH^{-1}$ and then find $J^{-1}J$. Is $HH^{-1} == J^{-1}J$? Why or Why not? \n",
        "\n",
        "Please ignore Python rounding errors. If necessary, format your output so that it rounds to 5 significant digits (the fifth decimal place)."
      ]
    },
    {
      "cell_type": "code",
      "metadata": {
        "id": "jGF3dnxBAf9y",
        "colab_type": "code",
        "colab": {
          "base_uri": "https://localhost:8080/",
          "height": 52
        },
        "outputId": "05070b69-74f0-4735-a575-9b8487524e7e"
      },
      "source": [
        "# Technically, these zero matrices would be equal because they are all equally\n",
        "# zero.\n",
        "\n",
        "H_inverse_H = np.matmul(H, inv_H)\n",
        "print(H_inverse_H)"
      ],
      "execution_count": 49,
      "outputs": [
        {
          "output_type": "stream",
          "text": [
            "[[1.00000000e+00 5.55111512e-16]\n",
            " [2.22044605e-16 1.00000000e+00]]\n"
          ],
          "name": "stdout"
        }
      ]
    },
    {
      "cell_type": "code",
      "metadata": {
        "id": "fmY0LRx7BvzS",
        "colab_type": "code",
        "colab": {
          "base_uri": "https://localhost:8080/",
          "height": 70
        },
        "outputId": "db8268b8-1430-45bb-85a5-6e51f41953d9"
      },
      "source": [
        "J_inverse_J = np.matmul(J, inv_J)\n",
        "print(J_inverse_J)"
      ],
      "execution_count": 50,
      "outputs": [
        {
          "output_type": "stream",
          "text": [
            "[[ 1.00000000e+00 -5.55111512e-17  0.00000000e+00]\n",
            " [ 0.00000000e+00  1.00000000e+00  0.00000000e+00]\n",
            " [ 0.00000000e+00  0.00000000e+00  1.00000000e+00]]\n"
          ],
          "name": "stdout"
        }
      ]
    },
    {
      "cell_type": "markdown",
      "metadata": {
        "id": "V0iTO4McYjtk",
        "colab_type": "text"
      },
      "source": [
        "# Stretch Goals: \n",
        "\n",
        "A reminder that these challenges are optional. If you finish your work quickly we welcome you to work on them. If there are other activities that you feel like will help your understanding of the above topics more, feel free to work on that. Topics from the Stretch Goals sections will never end up on Sprint Challenges. You don't have to do these in order, you don't have to do all of them. \n",
        "\n",
        "- Write a function that can calculate the dot product of any two vectors of equal length that are passed to it.\n",
        "- Write a function that can calculate the norm of any vector\n",
        "- Prove to yourself again that the vectors in 1.9 are orthogonal by graphing them. \n",
        "- Research how to plot a 3d graph with animations so that you can make the graph rotate (this will be easier in a local notebook than in google colab)\n",
        "- Create and plot a matrix on a 2d graph.\n",
        "- Create and plot a matrix on a 3d graph.\n",
        "- Plot two vectors that are not collinear on a 2d graph. Calculate the determinant of the 2x2 matrix that these vectors form. How does this determinant relate to the graphical interpretation of the vectors?\n",
        "\n"
      ]
    },
    {
      "cell_type": "code",
      "metadata": {
        "id": "NbEvruJTCEUE",
        "colab_type": "code",
        "colab": {}
      },
      "source": [
        "# No stretch attempts this time. This slacker is visiting family. I will attempt\n",
        "# them at another time :)"
      ],
      "execution_count": 0,
      "outputs": []
    }
  ]
}